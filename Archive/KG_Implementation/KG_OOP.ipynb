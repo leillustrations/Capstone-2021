{
 "metadata": {
  "language_info": {
   "codemirror_mode": {
    "name": "ipython",
    "version": 3
   },
   "file_extension": ".py",
   "mimetype": "text/x-python",
   "name": "python",
   "nbconvert_exporter": "python",
   "pygments_lexer": "ipython3",
   "version": "3.7.4"
  },
  "orig_nbformat": 2,
  "kernelspec": {
   "name": "python374jvsc74a57bd06e946c9985b4c9bbe718d24166b8cd65a435a32b8188144b16e55f79f532d077",
   "display_name": "Python 3.7.4 64-bit ('base': conda)"
  }
 },
 "nbformat": 4,
 "nbformat_minor": 2,
 "cells": [
  {
   "cell_type": "code",
   "execution_count": 4,
   "metadata": {},
   "outputs": [],
   "source": [
    "import numpy as np\n",
    "import pickle as pkl\n",
    "import matplotlib as pyplot\n",
    "import random\n",
    "from collections import defaultdict\n",
    "\n"
   ]
  },
  {
   "cell_type": "code",
   "execution_count": 11,
   "metadata": {},
   "outputs": [],
   "source": [
    "class Node():\n",
    "    CONNECTED = True\n",
    "    RECOMMEND = True\n",
    "    def __init__(self, node_type, node_subtype, name):\n",
    "\n",
    "        self.node_type = node_type\n",
    "        self.node_subtype = node_subtype\n",
    "        self.name = name\n",
    "\n",
    "        self._pointer = hash(self.name) # create unique id/hash value based on node type, subtype and name\n",
    "\n",
    "    # def is_connected(self):\n",
    "    #     \"\"\"check if node has links\"\"\"\n",
    "\n",
    "    #     if not self.connections:\n",
    "    #         CONNECTED = False\n",
    "    #         return \"not connected\"\n",
    "    #     else:\n",
    "    #         CONNECTED = True\n",
    "    #         return \"connected\"\n",
    "\n",
    "    def to_recommend(self, node_type):\n",
    "        \"\"\"check if node in question is a node type we want to recommend to user\"\"\"\n",
    "\n",
    "        if self.node_type=='to_recommend':\n",
    "            RECOMMEND = True\n",
    "            return 'no'\n",
    "        elif self.node_type =='to_not_recommend':\n",
    "            RECOMMEND = False\n",
    "            return 'yes'\n",
    "        \n",
    "    # def get_connections(self):\n",
    "    #     \"\"\"to return all connected nodes\"\"\"\n",
    "\n",
    "    #     return self.connections\n",
    "\n",
    "\n",
    "    def get_pointer(self):\n",
    "        \"\"\"get hash value of unique node\"\"\"\n",
    "        return self._pointer\n",
    "\n",
    "\n",
    "    # def add_connections(self, node1):\n",
    "    #     \"\"\"add new node to connection dict (node class or graph class?)\"\"\"\n",
    "    #     if node1 in self.connections.keys():\n",
    "    #         return \"node already in connections\"\n",
    "    #     else:\n",
    "    #         self.connections.update({node1 : node1.get_weights()})\n",
    "    \n",
    "\n",
    "    # def delete_node(self, node1):\n",
    "    #     \"\"\"remove new node to connection dict\"\"\"\n",
    "    #     if node1  in self.node1.connections.keys():\n",
    "    #         del node1\n",
    "    #     else:\n",
    "    #         return \"node not found in connections\"\n",
    "        \n",
    "\n",
    "\n",
    "\n",
    "\n",
    "\n",
    "\n",
    "\n",
    "    # def __hash__(self):\n",
    "    #     return hash((self.node_type,self.node_subtype,self.name))\n",
    "\n",
    "\n",
    "    def __str__(self):\n",
    "        return str(self.__dict__)"
   ]
  },
  {
   "cell_type": "code",
   "execution_count": 12,
   "metadata": {},
   "outputs": [
    {
     "output_type": "stream",
     "name": "stdout",
     "text": [
      "{'node_type': 'to_not_recommend', 'node_subtype': 'materials', 'name': 'steel', '_pointer': 7137564030902634985}\n7137564030902634985\n"
     ]
    }
   ],
   "source": [
    "node1 = Node(node_type= 'to_not_recommend', node_subtype ='materials', name ='steel')\n",
    "node3 = Node(node_type= 'to_not_recommend', node_subtype='architect', name='Alvar Aalto')\n",
    "node2 = Node(node_type= 'to_recommend', node_subtype ='precedent', name ='Baker House')\n",
    "node4 = Node(node_type= 'to_recommend', node_subtype='precedent', name ='Villa Mairea')\n",
    "\n",
    "print(node1)\n",
    "print(node1.get_pointer())\n",
    "\n"
   ]
  },
  {
   "cell_type": "code",
   "execution_count": 13,
   "metadata": {},
   "outputs": [
    {
     "output_type": "stream",
     "name": "stdout",
     "text": [
      "{'node_type': 'to_recommend', 'node_subtype': 'materials', 'name': 'steel', '_pointer': 7137564030902634985}\n"
     ]
    }
   ],
   "source": [
    "node1.node_type ='to_recommend'\n",
    "print(node1)"
   ]
  },
  {
   "cell_type": "code",
   "execution_count": 30,
   "metadata": {},
   "outputs": [],
   "source": [
    "class Edge():\n",
    "    def __init__(self, weight, edge_type, start_node, end_node):\n",
    "        # edge types: is part of, designed by, relates to, built using, has style, is\n",
    "        self.edge_type = edge_type  # type of relation between 2 nodes\n",
    "        self.weight = weight\n",
    "        self.start_node = start_node\n",
    "        self.end_node = end_node\n",
    "\n",
    "    def get_edge_type(self):\n",
    "        return self.edge_type\n",
    "\n",
    "    def get_weight(self):\n",
    "        \"\"\"get weight of connection between this node and another\"\"\"\n",
    "\n",
    "        return self.weight\n",
    "\n",
    "    def set_weight(self, new_weight):\n",
    "        \"\"\"set/change weight of connection between this node and another\"\"\"\n",
    "        self.weight = new_weight\n",
    "\n",
    "        return self.weight\n",
    "\n",
    "    def get_start_node(self):\n",
    "        return self.start_node\n",
    "\n",
    "    def get_end_node(self):\n",
    "        return self.end_node\n",
    "\n"
   ]
  },
  {
   "cell_type": "code",
   "execution_count": null,
   "metadata": {},
   "outputs": [],
   "source": [
    "node1=\n",
    "node2=\n",
    "edge1= Edge(0.1, 'is part of', node1, node2 )"
   ]
  },
  {
   "cell_type": "code",
   "execution_count": null,
   "metadata": {},
   "outputs": [],
   "source": [
    "class Graph()"
   ]
  }
 ]
}