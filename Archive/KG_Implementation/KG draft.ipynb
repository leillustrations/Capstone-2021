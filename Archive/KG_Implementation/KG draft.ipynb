{
 "cells": [
  {
   "cell_type": "code",
   "execution_count": 1,
   "metadata": {},
   "outputs": [],
   "source": [
    "import numpy as np\n",
    "import pickle as pkl\n",
    "import matplotlib as pyplot"
   ]
  },
  {
   "cell_type": "code",
   "execution_count": 2,
   "metadata": {},
   "outputs": [],
   "source": [
    "class Node():\n",
    "    \n",
    "    def __init__(self, name, features = None, label = None):\n",
    "        self.name = name\n",
    "        self.features = features\n",
    "        self.label = label\n",
    "        \n",
    "    def __str__(self):\n",
    "        return str(self.__dict__)"
   ]
  },
  {
   "cell_type": "code",
   "execution_count": 3,
   "metadata": {},
   "outputs": [
    {
     "name": "stdout",
     "output_type": "stream",
     "text": [
      "{'name': 1, 'features': [1, 2, 3, 4], 'label': 0}\n"
     ]
    }
   ],
   "source": [
    "basic_node = Node(name = 1, features = [1,2,3,4], label = 0)\n",
    "print(basic_node)"
   ]
  },
  {
   "cell_type": "code",
   "execution_count": 4,
   "metadata": {},
   "outputs": [],
   "source": [
    "class ContentNode(Node):\n",
    "    \n",
    "    def __init__(self, name, features, label):\n",
    "        super().__init__(name, features, label)"
   ]
  },
  {
   "cell_type": "code",
   "execution_count": 5,
   "metadata": {},
   "outputs": [
    {
     "name": "stdout",
     "output_type": "stream",
     "text": [
      "{'name': 'Louvre', 'features': {'City': 'Paris', 'Country': 'France', 'Building Type': 'Pyramid', 'Architect': 'I. M. Pei', 'Date': '1989', 'Content': 'The Louvre Pyramid (Pyramide du Louvre) is a large glass and metal pyramid designed by Chinese-American architect I. M. Pei, surrounded by three smaller pyramids, in the main courtyard (Cour Napoléon) of the Louvre Palace (Palais du Louvre) in Paris. The large pyramid serves as the main entrance to the Louvre Museum. Completed in 1989, it has become a landmark of the city of Paris.'}, 'label': None}\n"
     ]
    }
   ],
   "source": [
    "content_string = \"The Louvre Pyramid (Pyramide du Louvre) is a large glass and metal \"\n",
    "content_string += \"pyramid designed by Chinese-American architect I. M. Pei, surrounded by three smaller \"\n",
    "content_string += \"pyramids, in the main courtyard (Cour Napoléon) of the Louvre Palace (Palais du Louvre) \"\n",
    "content_string += \"in Paris. The large pyramid serves as the main entrance to the Louvre Museum. \"\n",
    "content_string += \"Completed in 1989, it has become a landmark of the city of Paris.\"\n",
    "louvre_features = {\"City\": \"Paris\", \"Country\": \"France\", \"Building Type\": \"Pyramid\", \\\n",
    "                   \"Architect\": \"I. M. Pei\", \"Date\": \"1989\", \"Content\": content_string}\n",
    "content_node_1 = ContentNode(name = \"Louvre\", features = louvre_features, label = None)\n",
    "print(content_node_1)"
   ]
  },
  {
   "cell_type": "code",
   "execution_count": 6,
   "metadata": {},
   "outputs": [],
   "source": [
    "class TypeNode(Node):\n",
    "    \n",
    "    def __init__(self, nodetype, name, features, label):\n",
    "        super().__init__(name, features, label)\n",
    "        self.nodetype = nodetype"
   ]
  },
  {
   "cell_type": "code",
   "execution_count": 7,
   "metadata": {},
   "outputs": [
    {
     "name": "stdout",
     "output_type": "stream",
     "text": [
      "{'name': 'Paris', 'features': None, 'label': None, 'nodetype': 'City'}\n"
     ]
    }
   ],
   "source": [
    "type_node_1 = TypeNode(nodetype = \"City\", name = \"Paris\", features = None, label = None)\n",
    "print(type_node_1)"
   ]
  },
  {
   "cell_type": "code",
   "execution_count": 8,
   "metadata": {},
   "outputs": [],
   "source": [
    "class Link():\n",
    "    \n",
    "    def __init__(self, name, node_start, node_end, linktype, features= None, linklabel = None):\n",
    "        self.name = name\n",
    "        self.node_start = node_start\n",
    "        self.node_end = node_end\n",
    "        self.linktype = linktype\n",
    "        self.features = features\n",
    "        self.linklabel = linklabel\n",
    "        \n",
    "    def __str__(self):\n",
    "        return str(self.__dict__)"
   ]
  },
  {
   "cell_type": "code",
   "execution_count": 9,
   "metadata": {},
   "outputs": [
    {
     "name": "stdout",
     "output_type": "stream",
     "text": [
      "{'name': 'Louvre_to_Paris', 'node_start': <__main__.ContentNode object at 0x00000225288577F0>, 'node_end': <__main__.TypeNode object at 0x0000022528857B20>, 'linktype': 'is_in_city', 'features': None, 'linklabel': None}\n"
     ]
    }
   ],
   "source": [
    "link_1 = Link(name = \"Louvre_to_Paris\", \\\n",
    "              node_start = content_node_1, \\\n",
    "              node_end = type_node_1, \\\n",
    "              linktype = \"is_in_city\", \\\n",
    "              features = None, \\\n",
    "              linklabel = None)\n",
    "print(link_1)"
   ]
  },
  {
   "cell_type": "code",
   "execution_count": 16,
   "metadata": {},
   "outputs": [],
   "source": [
    "class Graph():\n",
    "    \n",
    "    def __init__(self, path_to_file, load = False):\n",
    "        self.path_to_file = path_to_file\n",
    "        self.link_types = [\"is_in_city\", \"is_in_country\", \"designed by\", \"creation_date\", \"is_building_type\"]\n",
    "        self.features_types = [\"City\", \"Country\", \"Building Type\", \"Architect\", \"Date\", \"Content\"]\n",
    "        self.labels_types = None\n",
    "        \n",
    "        if load:\n",
    "            self.load()\n",
    "        else:\n",
    "            self.init_graph()\n",
    "            \n",
    "    def init_graph(self):\n",
    "        self.nodes_list = []\n",
    "        self.nodes_number = 0\n",
    "        self.links_list = []\n",
    "        self.links_number = 0\n",
    "        # Assignment matrix\n",
    "        self.A = None\n",
    "        # Degree matrix\n",
    "        self.D = None\n",
    "        # Nodes features matrix\n",
    "        self.NF = None\n",
    "        # Nodes labels matrix\n",
    "        self.NL = None\n",
    "        # Edges features matrix\n",
    "        self.EF = None\n",
    "        # Edges labels matrix\n",
    "        self.EL = None\n",
    "        # Laplacian matrix\n",
    "        self.L = None\n",
    "        \n",
    "    def add_node(self, node):\n",
    "        self.nodes_list.append(node)\n",
    "        self.nodes_number += 1\n",
    "        self.update_A_node()\n",
    "        self.save()\n",
    "        \n",
    "    def add_link(self, link):\n",
    "        self.links_list.append(link)\n",
    "        self.links_number += 1\n",
    "        self.update_A_link(link)\n",
    "        self.save()\n",
    "        \n",
    "    def update_A_node(self):\n",
    "        if self.A is None:\n",
    "            self.A = np.zeros((1,1))\n",
    "        else:\n",
    "            m1 = np.reshape(np.array([0 for i in range(self.nodes_number - 1)]), (1, self.nodes_number - 1))\n",
    "            m2 = np.array([[0] for i in range(self.nodes_number)])\n",
    "            self.A = np.concatenate((self.A, m1), axis = 0)\n",
    "            self.A = np.concatenate((self.A, m2), axis = 1)\n",
    "            \n",
    "    def update_A_link(self, link):\n",
    "        index1 = self.nodes_list.index(link.node_start)\n",
    "        index2 = self.nodes_list.index(link.node_end)\n",
    "        self.A[index1, index2] = 1\n",
    "        \n",
    "    def save(self):\n",
    "        print(\"Write a save method for graph, pickle maybe?\")\n",
    "        \n",
    "    def load(self):\n",
    "        print(\"Write a load method for graph, pickle maybe?\")\n",
    "        \n",
    "    def display_node(self, node):\n",
    "        print(\"Write a display method for showing node and its neighbours using matplotlib?\")\n",
    "        \n",
    "    def display_full_graph(self):\n",
    "        print(\"Write a display method for showing full graph using matplotlib?\")\n",
    "        \n",
    "    def __str__(self):\n",
    "        return str(self.__dict__)"
   ]
  },
  {
   "cell_type": "code",
   "execution_count": 17,
   "metadata": {},
   "outputs": [
    {
     "name": "stdout",
     "output_type": "stream",
     "text": [
      "{'path_to_file': 'graph_data.data', 'link_types': ['is_in_city', 'is_in_country', 'designed by', 'creation_date', 'is_building_type'], 'features_types': ['City', 'Country', 'Building Type', 'Architect', 'Date', 'Content'], 'labels_types': None, 'nodes_list': [], 'nodes_number': 0, 'links_list': [], 'links_number': 0, 'A': None, 'D': None, 'NF': None, 'NL': None, 'EF': None, 'EL': None, 'L': None}\n"
     ]
    }
   ],
   "source": [
    "graph = Graph(path_to_file = \"graph_data.data\")\n",
    "print(graph)"
   ]
  },
  {
   "cell_type": "code",
   "execution_count": 18,
   "metadata": {},
   "outputs": [
    {
     "name": "stdout",
     "output_type": "stream",
     "text": [
      "Write a save method for graph, pickle maybe?\n",
      "Write a save method for graph, pickle maybe?\n",
      "Write a save method for graph, pickle maybe?\n",
      "{'path_to_file': 'graph_data.data', 'link_types': ['is_in_city', 'is_in_country', 'designed by', 'creation_date', 'is_building_type'], 'features_types': ['City', 'Country', 'Building Type', 'Architect', 'Date', 'Content'], 'labels_types': None, 'nodes_list': [<__main__.ContentNode object at 0x00000225288577F0>, <__main__.TypeNode object at 0x0000022528857B20>], 'nodes_number': 2, 'links_list': [<__main__.Link object at 0x0000022528857BE0>], 'links_number': 1, 'A': array([[0., 1.],\n",
      "       [0., 0.]]), 'D': None, 'NF': None, 'NL': None, 'EF': None, 'EL': None, 'L': None}\n"
     ]
    }
   ],
   "source": [
    "graph.add_node(content_node_1)\n",
    "graph.add_node(type_node_1)\n",
    "graph.add_link(link_1)\n",
    "print(graph)"
   ]
  },
  {
   "cell_type": "code",
   "execution_count": null,
   "metadata": {},
   "outputs": [],
   "source": []
  }
 ],
 "metadata": {
  "kernelspec": {
   "display_name": "Python 3",
   "language": "python",
   "name": "python3"
  },
  "language_info": {
   "codemirror_mode": {
    "name": "ipython",
    "version": 3
   },
   "file_extension": ".py",
   "mimetype": "text/x-python",
   "name": "python",
   "nbconvert_exporter": "python",
   "pygments_lexer": "ipython3",
   "version": "3.8.3"
  }
 },
 "nbformat": 4,
 "nbformat_minor": 4
}
