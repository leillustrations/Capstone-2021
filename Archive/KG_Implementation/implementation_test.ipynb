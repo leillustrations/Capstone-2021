{
 "cells": [
  {
   "cell_type": "code",
   "execution_count": 2,
   "metadata": {},
   "outputs": [],
   "source": [
    "from utils.Node import Node\r\n",
    "from utils.Edge import Edge\r\n",
    "from utils.KnowledgeGraph import KnowledgeGraph\r\n",
    "from utils.PriorityQueue import PriorityQueue\r\n",
    "from utils.Tree import Tree\r\n",
    "import os\r\n",
    "pwd = os.getcwd()"
   ]
  },
  {
   "cell_type": "code",
   "execution_count": 3,
   "metadata": {},
   "outputs": [
    {
     "name": "stdout",
     "output_type": "stream",
     "text": [
      "       From Type             From Name                  Edge      To Type  \\\n",
      "0     Precedents  Hunter Point Library            relates to  Sub-Aspects   \n",
      "1     Precedents  Hunter Point Library        is designed by    Architect   \n",
      "2     Precedents  Hunter Point Library             has Style        Style   \n",
      "3     Precedents  Hunter Point Library        is built using    Materials   \n",
      "4     Precedents  Hunter Point Library  is designed/built in         Year   \n",
      "...          ...                   ...                   ...          ...   \n",
      "1135        Year                  2014            is part of        Style   \n",
      "1136        Year                  2015            is part of        Style   \n",
      "1137        Year                  2016            is part of        Style   \n",
      "1138        Year                  2017            is part of        Style   \n",
      "1139        Year                  2019            is part of        Style   \n",
      "\n",
      "                     To Name  Weight  \n",
      "0        Operation: Subtract     NaN  \n",
      "1     Steven Holl Architects     NaN  \n",
      "2                     Modern     NaN  \n",
      "3                   Concrete     NaN  \n",
      "4                       2019     NaN  \n",
      "...                      ...     ...  \n",
      "1135            Neo-futurism     NaN  \n",
      "1136            Neo-futurism     NaN  \n",
      "1137            Neo-futurism     NaN  \n",
      "1138            Neo-futurism     NaN  \n",
      "1139            Neo-futurism     NaN  \n",
      "\n",
      "[1140 rows x 6 columns]\n",
      "          Type                    Name\n",
      "0    Architect  Steven Holl Architects\n",
      "1    Architect    Hunter Point Library\n",
      "2    Architect   Zaha Hadid Architects\n",
      "3    Architect       Antoine le Pautre\n",
      "4    Architect       Greene and Greene\n",
      "..         ...                     ...\n",
      "649       Year                    2014\n",
      "650       Year                    2015\n",
      "651       Year                    2016\n",
      "652       Year                    2017\n",
      "653       Year                    2019\n",
      "\n",
      "[654 rows x 2 columns]\n"
     ]
    }
   ],
   "source": [
    "edges_df = KnowledgeGraph.load_from_csv(pwd + '\\\\KG_Data\\\\KG_Visualisation_Edges.csv')\r\n",
    "nodes_df = KnowledgeGraph.load_from_csv(pwd + '\\\\KG_Data\\\\KG_Visualisation_Nodes.csv')\r\n",
    "\r\n",
    "print(edges_df)\r\n",
    "print(nodes_df)"
   ]
  },
  {
   "cell_type": "code",
   "execution_count": null,
   "metadata": {},
   "outputs": [],
   "source": []
  },
  {
   "cell_type": "code",
   "execution_count": 15,
   "metadata": {},
   "outputs": [
    {
     "name": "stdout",
     "output_type": "stream",
     "text": [
      "<class 'str'>\n",
      "<class 'list'>\n",
      "<class 'utils.Node.Node'>\n"
     ]
    }
   ],
   "source": [
    "from csv import DictReader\r\n",
    "\r\n",
    "with open(pwd + '\\\\KG_Data\\\\KG_Visualisation_Nodes.csv', 'r', encoding='utf-8-sig') as csv_file:\r\n",
    "    dict_reader = DictReader(csv_file)\r\n",
    "    list_of_dict_nodes = list(dict_reader)\r\n",
    "    #print(list_of_dict)\r\n",
    "\r\n",
    "print(type(list_of_dict_nodes[0]['type']))\r\n",
    "node_list = []\r\n",
    "for i in range(len(list_of_dict_nodes)):\r\n",
    "    node = Node(node_type='to_recommend', node_subtype=list_of_dict_nodes[i]['type'],name=list_of_dict_nodes[i]['Name'])\r\n",
    "    node_list.append(node)\r\n",
    "\r\n",
    "# print(node_list)\r\n",
    "print(type(node_list))\r\n",
    "print(type(node_list[0]))"
   ]
  },
  {
   "cell_type": "code",
   "execution_count": 22,
   "metadata": {},
   "outputs": [
    {
     "ename": "TypeError",
     "evalue": "__init__() got an unexpected keyword argument 'end_node_subtype'",
     "output_type": "error",
     "traceback": [
      "\u001b[1;31m---------------------------------------------------------------------------\u001b[0m",
      "\u001b[1;31mTypeError\u001b[0m                                 Traceback (most recent call last)",
      "\u001b[1;32m<ipython-input-22-5cb1190595dc>\u001b[0m in \u001b[0;36m<module>\u001b[1;34m\u001b[0m\n\u001b[0;32m      6\u001b[0m \u001b[0medge_list\u001b[0m \u001b[1;33m=\u001b[0m \u001b[1;33m[\u001b[0m\u001b[1;33m]\u001b[0m\u001b[1;33m\u001b[0m\u001b[1;33m\u001b[0m\u001b[0m\n\u001b[0;32m      7\u001b[0m \u001b[1;32mfor\u001b[0m \u001b[0mi\u001b[0m \u001b[1;32min\u001b[0m \u001b[0mrange\u001b[0m\u001b[1;33m(\u001b[0m\u001b[0mlen\u001b[0m\u001b[1;33m(\u001b[0m\u001b[0mlist_of_dict_edges\u001b[0m\u001b[1;33m)\u001b[0m\u001b[1;33m)\u001b[0m\u001b[1;33m:\u001b[0m\u001b[1;33m\u001b[0m\u001b[1;33m\u001b[0m\u001b[0m\n\u001b[1;32m----> 8\u001b[1;33m     edge = Edge(edge_type=list_of_dict_edges[i]['Edge'], \n\u001b[0m\u001b[0;32m      9\u001b[0m     \u001b[0mstart_node\u001b[0m\u001b[1;33m=\u001b[0m\u001b[0mlist_of_dict_edges\u001b[0m\u001b[1;33m[\u001b[0m\u001b[0mi\u001b[0m\u001b[1;33m]\u001b[0m\u001b[1;33m[\u001b[0m\u001b[1;34m'From Name'\u001b[0m\u001b[1;33m]\u001b[0m\u001b[1;33m,\u001b[0m \u001b[0mend_node\u001b[0m\u001b[1;33m=\u001b[0m\u001b[0mlist_of_dict_edges\u001b[0m\u001b[1;33m[\u001b[0m\u001b[0mi\u001b[0m\u001b[1;33m]\u001b[0m\u001b[1;33m[\u001b[0m\u001b[1;34m'To Name'\u001b[0m\u001b[1;33m]\u001b[0m\u001b[1;33m,\u001b[0m \u001b[0mweight\u001b[0m\u001b[1;33m=\u001b[0m\u001b[1;36m0\u001b[0m\u001b[1;33m,\u001b[0m\u001b[1;33m\u001b[0m\u001b[1;33m\u001b[0m\u001b[0m\n\u001b[0;32m     10\u001b[0m     start_node_subtype=list_of_dict_edges[i]['From Type'], end_node_subtype=list_of_dict_edges[i]['To Type'])\n",
      "\u001b[1;31mTypeError\u001b[0m: __init__() got an unexpected keyword argument 'end_node_subtype'"
     ]
    }
   ],
   "source": [
    "with open(pwd + '\\\\KG_Data\\\\KG_Visualisation_Edges.csv', 'r', encoding='utf-8-sig') as csv_file:\r\n",
    "    dict_reader = DictReader(csv_file)\r\n",
    "    list_of_dict_edges = list(dict_reader)\r\n",
    "    #print(list_of_dict)\r\n",
    "\r\n",
    "edge_list = []\r\n",
    "for i in range(len(list_of_dict_edges)):\r\n",
    "    edge = Edge(edge_type=list_of_dict_edges[i]['Edge'], \r\n",
    "    start_node=list_of_dict_edges[i]['From Name'], end_node=list_of_dict_edges[i]['To Name'], weight=0, \r\n",
    "    start_node_subtype=list_of_dict_edges[i]['From Type'], end_node_subtype=list_of_dict_edges[i]['To Type'])\r\n",
    "    edge_list.append(edge)\r\n",
    "\r\n",
    "print(type(edge_list))\r\n",
    "print(type(edge_list[0]))"
   ]
  }
 ],
 "metadata": {
  "kernelspec": {
   "display_name": "Python 3.9.5 64-bit",
   "name": "python395jvsc74a57bd09efb7b3942ac2705b6a21d3c6d6a0607a8c45d48aaf9ba79b2761e7bd99c3004"
  },
  "language_info": {
   "codemirror_mode": {
    "name": "ipython",
    "version": 3
   },
   "file_extension": ".py",
   "mimetype": "text/x-python",
   "name": "python",
   "nbconvert_exporter": "python",
   "pygments_lexer": "ipython3",
   "version": "3.9.5"
  },
  "metadata": {
   "interpreter": {
    "hash": "9efb7b3942ac2705b6a21d3c6d6a0607a8c45d48aaf9ba79b2761e7bd99c3004"
   }
  },
  "orig_nbformat": 2
 },
 "nbformat": 4,
 "nbformat_minor": 2
}